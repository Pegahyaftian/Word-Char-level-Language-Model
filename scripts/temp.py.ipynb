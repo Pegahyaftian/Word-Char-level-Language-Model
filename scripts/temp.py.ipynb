{
 "cells": [
  {
   "cell_type": "code",
   "execution_count": 1,
   "id": "fdfbab23",
   "metadata": {},
   "outputs": [],
   "source": [
    "class DictionaryCharacter:\n",
    "    TOKEN_BEGINING_OF_WORD = \"BOW\"\n",
    "    TOKEN_END_OF_WORD = \"EOW\"\n",
    "    TOKEN_PADING = \"PAD\"\n",
    "    \n",
    "    def build_dictionary(self):\n",
    "        print(self.TOKEN_PADING)"
   ]
  },
  {
   "cell_type": "code",
   "execution_count": 2,
   "id": "bc718751",
   "metadata": {},
   "outputs": [],
   "source": [
    "d = DictionaryCharacter()"
   ]
  },
  {
   "cell_type": "code",
   "execution_count": 3,
   "id": "ca726edd",
   "metadata": {},
   "outputs": [
    {
     "name": "stdout",
     "output_type": "stream",
     "text": [
      "PAD\n"
     ]
    }
   ],
   "source": [
    "d.build_dictionary()\n",
    "\n"
   ]
  },
  {
   "cell_type": "code",
   "execution_count": null,
   "id": "a511b385",
   "metadata": {},
   "outputs": [],
   "source": []
  }
 ],
 "metadata": {
  "kernelspec": {
   "display_name": "Python 3 (ipykernel)",
   "language": "python",
   "name": "python3"
  },
  "language_info": {
   "codemirror_mode": {
    "name": "ipython",
    "version": 3
   },
   "file_extension": ".py",
   "mimetype": "text/x-python",
   "name": "python",
   "nbconvert_exporter": "python",
   "pygments_lexer": "ipython3",
   "version": "3.10.8"
  }
 },
 "nbformat": 4,
 "nbformat_minor": 5
}
